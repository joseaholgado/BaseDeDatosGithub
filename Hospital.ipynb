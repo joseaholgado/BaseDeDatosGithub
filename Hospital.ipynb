{
 "cells": [
  {
   "cell_type": "code",
   "execution_count": 1,
   "metadata": {},
   "outputs": [],
   "source": [
    "import sqlite3\n",
    "conexion=sqlite3.connect('Hospital.db')\n",
    "cur = conexion.cursor()\n",
    "cur.execute(\"\"\"CREATE TABLE IF NOT EXISTS Pacientes (\n",
    "                        id integer primary key autoincrement,\n",
    "                        Numero_SS integer,\n",
    "                        Nombre text,\n",
    "                        Apellido1 text,\n",
    "                        Apellido2 text,\n",
    "                        Domicilio text,\n",
    "                        Poblacion text,\n",
    "                        CP integer,\n",
    "                        N_tlf integer,\n",
    "                        id_N_historial_clinico integer,\n",
    "                        observaciones text\n",
    "                        )\"\"\")\n",
    "cur.execute(\"\"\"CREATE TABLE IF NOT EXISTS Ingresos (\n",
    "                        id integer primary key autoincrement,\n",
    "                        id_N_historial_clinico integer,\n",
    "                        Procedencia text,\n",
    "                        Fecha_ingreso integer,\n",
    "                        Codigo_medico integer,\n",
    "                        Numero_planta integer,\n",
    "                        Numero_cama integer,\n",
    "                        Observaciones text\n",
    "                        )\"\"\")\n",
    "cur.execute(\"\"\"CREATE TABLE IF NOT EXISTS Medicos (\n",
    "                        id integer primary key autoincrement,\n",
    "                        id_Codigo_medico integer,\n",
    "                        Nombre text,\n",
    "                        Apellido1 text,\n",
    "                        Apellido2 text,\n",
    "                        Nombre_especialidad integer,\n",
    "                        Numero_colegiado integer,\n",
    "                        Cargo text,\n",
    "                        Observaciones text\n",
    "                        )\"\"\")\n",
    "\n",
    "    \n",
    "\n",
    "conexion.commit()\n",
    "\n",
    "import pandas as pd\n",
    "df_data= pd.read_csv('Hospital.csv',skiprows=1,sep=\";\", encoding='iso8859')\n",
    "df_data2= pd.read_csv('Hospital2.csv',skiprows=1,sep=\";\", encoding='iso8859')\n",
    "df_data3= pd.read_csv('Hospital3.csv',skiprows=1,sep=\";\", encoding='iso8859')\n",
    "pacientes = df_data.values\n",
    "pacientes\n",
    "ingresos = df_data2.values\n",
    "ingresos\n",
    "medicos = df_data3.values\n",
    "medicos\n",
    "for paciente in pacientes:\n",
    "    cur.execute(\"\"\" INSERT INTO Pacientes ( Numero_SS,\n",
    "Nombre, Apellido1,Apellido2,Domicilio,Poblacion ,CP,N_tlf,id_N_historial_clinico,observaciones) VALUES (?,?,?,?,?,?,?,?,?,?)\"\"\",(paciente))\n",
    "    \n",
    "for ingreso in ingresos:\n",
    "    cur.execute(\"\"\" INSERT INTO Ingresos ( id_N_historial_clinico,\n",
    "Procedencia, Fecha_ingreso,Codigo_medico,Numero_planta,Numero_cama,observaciones) VALUES (?,?,?,?,?,?,?)\"\"\",(ingreso))\n",
    "    \n",
    "for medico in medicos:\n",
    "    cur.execute(\"\"\" INSERT INTO Medicos ( id_Codigo_medico,\n",
    "Nombre, Apellido1,Apellido2,Nombre_especialidad,Numero_colegiado,Cargo,observaciones) VALUES (?,?,?,?,?,?,?,?)\"\"\",(medico))\n",
    "    \n",
    "conexion.commit()\n",
    "\n"
   ]
  },
  {
   "cell_type": "code",
   "execution_count": 2,
   "metadata": {},
   "outputs": [
    {
     "ename": "OperationalError",
     "evalue": "no such table: Ingerosos",
     "output_type": "error",
     "traceback": [
      "\u001b[1;31m---------------------------------------------------------------------------\u001b[0m",
      "\u001b[1;31mOperationalError\u001b[0m                          Traceback (most recent call last)",
      "Cell \u001b[1;32mIn[2], line 1\u001b[0m\n\u001b[1;32m----> 1\u001b[0m listar_valores \u001b[39m=\u001b[39m cur\u001b[39m.\u001b[39;49mexecute(\u001b[39m\"\"\"\u001b[39;49m\n\u001b[0;32m      2\u001b[0m \u001b[39m                SELECT i.fecha_ingeros, p.nombre, p.apellido1 FROM Pacientes p, Ingerosos i\u001b[39;49m\n\u001b[0;32m      3\u001b[0m \u001b[39m                 WHERE id.id_Pacientes=p.N_historial_clinico\u001b[39;49m\u001b[39m\"\"\"\u001b[39;49m)\n\u001b[0;32m      4\u001b[0m data \u001b[39m=\u001b[39m cur\u001b[39m.\u001b[39mfetchall()\n\u001b[0;32m      6\u001b[0m \u001b[39mfor\u001b[39;00m row \u001b[39min\u001b[39;00m data:\n",
      "\u001b[1;31mOperationalError\u001b[0m: no such table: Ingerosos"
     ]
    }
   ],
   "source": [
    "listar_valores = cur.execute(\"\"\"\n",
    "                SELECT i.fecha_ingeros, p.nombre, p.apellido1 FROM Pacientes p, Ingerosos i\n",
    "                 WHERE id.id_Pacientes=p.N_historial_clinico\"\"\")\n",
    "data = cur.fetchall()\n",
    "\n",
    "for row in data:\n",
    "    print(row)\n",
    "##print (data[0])"
   ]
  },
  {
   "cell_type": "code",
   "execution_count": null,
   "metadata": {},
   "outputs": [
    {
     "ename": "ProgrammingError",
     "evalue": "Cannot operate on a closed database.",
     "output_type": "error",
     "traceback": [
      "\u001b[1;31m---------------------------------------------------------------------------\u001b[0m",
      "\u001b[1;31mProgrammingError\u001b[0m                          Traceback (most recent call last)",
      "Cell \u001b[1;32mIn[10], line 1\u001b[0m\n\u001b[1;32m----> 1\u001b[0m listar_valores \u001b[39m=\u001b[39m cur\u001b[39m.\u001b[39;49mexecute(\u001b[39m\"\"\"\u001b[39;49m\n\u001b[0;32m      2\u001b[0m \u001b[39m                SELECT p.nombre, m.nombre, i.fecha_ingreso FROM pacientes p, medicos m, ingresos i\u001b[39;49m\n\u001b[0;32m      3\u001b[0m \u001b[39m                WHERE p.n_historial_clinico =i.num_historial_clinico AND m.cod_id=i.cod_id_medico\u001b[39;49m\u001b[39m\"\"\"\u001b[39;49m)\n\u001b[0;32m      4\u001b[0m data \u001b[39m=\u001b[39m cur\u001b[39m.\u001b[39mfetchall()\n\u001b[0;32m      6\u001b[0m \u001b[39mfor\u001b[39;00m row \u001b[39min\u001b[39;00m data:\n",
      "\u001b[1;31mProgrammingError\u001b[0m: Cannot operate on a closed database."
     ]
    }
   ],
   "source": [
    "listar_valores = cur.execute(\"\"\"\n",
    "                SELECT p.nombre, m.nombre, i.fecha_ingreso FROM pacientes p, medicos m, ingresos i\n",
    "                WHERE p.n_historial_clinico =i.num_historial_clinico AND m.cod_id=i.cod_id_medico\"\"\")\n",
    "data = cur.fetchall()\n",
    "\n",
    "for row in data:\n",
    "    print(row)\n",
    "conexion.close()"
   ]
  }
 ],
 "metadata": {
  "kernelspec": {
   "display_name": "Python 3",
   "language": "python",
   "name": "python3"
  },
  "language_info": {
   "codemirror_mode": {
    "name": "ipython",
    "version": 3
   },
   "file_extension": ".py",
   "mimetype": "text/x-python",
   "name": "python",
   "nbconvert_exporter": "python",
   "pygments_lexer": "ipython3",
   "version": "3.11.1"
  },
  "orig_nbformat": 4,
  "vscode": {
   "interpreter": {
    "hash": "3edf2ecd9607096c31b73384d4a9be9455d8bcee54132c43de464d83c996bcf7"
   }
  }
 },
 "nbformat": 4,
 "nbformat_minor": 2
}
