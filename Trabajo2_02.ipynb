{
 "cells": [
  {
   "cell_type": "code",
   "execution_count": 1,
   "metadata": {},
   "outputs": [],
   "source": [
    "import sqlite3\n",
    "conexion=sqlite3.connect('db_personas.db')\n",
    "cur = conexion.cursor()\n",
    "cur.execute(\"\"\"CREATE TABLE IF NOT EXISTS TablaPersonas (\n",
    "                        id integer primary key autoincrement,\n",
    "                        Nombre_Cuenta text,\n",
    "                        Nombre_oficial text,\n",
    "                        Brand_Account text,\n",
    "                        Seguidores real,\n",
    "                        Ocupacion text,\n",
    "                        Pais_Origen text\n",
    "                        )\"\"\")\n",
    "import pandas as pd\n",
    "df_data= pd.read_csv('most_followed_twitter.csv')\n",
    "personas = df_data.values\n",
    "personas\n",
    "for persona in personas:\n",
    "    cur.execute(\"\"\" INSERT INTO TablaPersonas (id , Nombre_Cuenta,\n",
    "Nombre_oficial, Brand_Account,Seguidores,Ocupacion,Pais_Origen) VALUES (?,?,?,?,?,?,?)\"\"\",(persona))\n",
    "conexion.commit()\n"
   ]
  },
  {
   "attachments": {},
   "cell_type": "markdown",
   "metadata": {},
   "source": [
    "\n",
    "datos= [1,@BarackObama,Barack Obama,N,133.4,44th President of the United States,United States]\n",
    "[2,@elonmusk,Elon Musk,N,123.3,\"Business magnate, investor, and owner of Twitter\",South Africa]\n",
    "[3,@justinbieber,Justin Bieber,N,113.6,Musician,Canada]\n",
    "[4,@katyperry,Katy Perry,N,108.7,Musician,United States]\n",
    "[5,@rihanna,Rihanna,N,107.4,Musician,Barbados]\n",
    "[6,@Cristiano,Cristiano Ronaldo,N,106.3,Football player,Portugal]\n",
    "[7,@taylorswift13,Taylor Swift,N,92,Musician,United States]\n",
    "[8,@realDonaldTrump,Donald Trump,N,87.8,45th President of the United States,United States]\n",
    "[9,@narendramodi,Narendra Modi,N,85.1,Prime Minister of India,India]\n",
    "[10,@ladygaga,Lady Gaga,N,84.9,Musician and actress,United States]"
   ]
  }
 ],
 "metadata": {
  "kernelspec": {
   "display_name": "Python 3",
   "language": "python",
   "name": "python3"
  },
  "language_info": {
   "codemirror_mode": {
    "name": "ipython",
    "version": 3
   },
   "file_extension": ".py",
   "mimetype": "text/x-python",
   "name": "python",
   "nbconvert_exporter": "python",
   "pygments_lexer": "ipython3",
   "version": "3.11.1"
  },
  "orig_nbformat": 4,
  "vscode": {
   "interpreter": {
    "hash": "3edf2ecd9607096c31b73384d4a9be9455d8bcee54132c43de464d83c996bcf7"
   }
  }
 },
 "nbformat": 4,
 "nbformat_minor": 2
}
