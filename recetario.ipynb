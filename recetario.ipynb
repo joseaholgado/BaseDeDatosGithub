{
 "cells": [
  {
   "cell_type": "code",
   "execution_count": 1,
   "metadata": {},
   "outputs": [
    {
     "ename": "ProgrammingError",
     "evalue": "Incorrect number of bindings supplied. The current statement uses 5, and there are 7 supplied.",
     "output_type": "error",
     "traceback": [
      "\u001b[1;31m---------------------------------------------------------------------------\u001b[0m",
      "\u001b[1;31mProgrammingError\u001b[0m                          Traceback (most recent call last)",
      "Cell \u001b[1;32mIn[1], line 40\u001b[0m\n\u001b[0;32m     38\u001b[0m utensilios\n\u001b[0;32m     39\u001b[0m \u001b[39mfor\u001b[39;00m receta \u001b[39min\u001b[39;00m recetas:\n\u001b[1;32m---> 40\u001b[0m     cur\u001b[39m.\u001b[39;49mexecute(\u001b[39m\"\"\"\u001b[39;49m\u001b[39m INSERT INTO Recetario ( Operacion_realizar,\u001b[39;49m\n\u001b[0;32m     41\u001b[0m \u001b[39mIngredientes, Tiempo,Utensilios_cocina,Comentarios) VALUES (?,?,?,?,?)\u001b[39;49m\u001b[39m\"\"\"\u001b[39;49m,(receta))\n\u001b[0;32m     43\u001b[0m \u001b[39mfor\u001b[39;00m ingrediente \u001b[39min\u001b[39;00m ingredientes:\n\u001b[0;32m     44\u001b[0m     cur\u001b[39m.\u001b[39mexecute(\u001b[39m\"\"\"\u001b[39m\u001b[39m INSERT INTO Ingredientes (Nombre,               \u001b[39m\n\u001b[0;32m     45\u001b[0m \u001b[39mCantidad,Kcal) VALUES (?,?,?)\u001b[39m\u001b[39m\"\"\"\u001b[39m,(ingrediente))\n",
      "\u001b[1;31mProgrammingError\u001b[0m: Incorrect number of bindings supplied. The current statement uses 5, and there are 7 supplied."
     ]
    }
   ],
   "source": [
    "import sqlite3\n",
    "conexion=sqlite3.connect('Recetario.db')\n",
    "cur = conexion.cursor()\n",
    "cur.execute(\"\"\"CREATE TABLE IF NOT EXISTS Recetario (\n",
    "                        id integer primary key autoincrement,\n",
    "                        Operacion_realizar text,\n",
    "                        Ingredientes text,\n",
    "                        Tiempo integer,\n",
    "                        Utensilios_cocina text,\n",
    "                        Comentarios text\n",
    "                        )\"\"\")\n",
    "cur.execute(\"\"\"CREATE TABLE IF NOT EXISTS Ingredientes (\n",
    "                        id integer primary key autoincrement,\n",
    "                        Nombre text,\n",
    "                        Cantidad integer,\n",
    "                        Kcal integer\n",
    "                        )\"\"\")\n",
    "cur.execute(\"\"\"CREATE TABLE IF NOT EXISTS Utensilios_cocina (\n",
    "                        id integer primary key autoincrement,\n",
    "                        Marca text,\n",
    "                        Costo integer,\n",
    "                        Consumo integer\n",
    "                        )\"\"\")\n",
    "\n",
    "    \n",
    "\n",
    "conexion.commit()\n",
    "\n",
    "import pandas as pd\n",
    "df_data= pd.read_csv('recetario.csv',skiprows=1,sep=\";\", encoding='iso8859')\n",
    "df_data2= pd.read_csv('recetario2.csv',skiprows=1,sep=\";\", encoding='iso8859')\n",
    "df_data3= pd.read_csv('recetario3.csv',skiprows=1,sep=\";\", encoding='iso8859')\n",
    "recetas = df_data.values\n",
    "recetas\n",
    "ingredientes = df_data2.values\n",
    "ingredientes\n",
    "utensilios = df_data3.values\n",
    "utensilios\n",
    "for receta in recetas:\n",
    "    cur.execute(\"\"\" INSERT INTO Recetario ( Operacion_realizar,\n",
    "Ingredientes, Tiempo,Utensilios_cocina,Comentarios) VALUES (?,?,?,?,?)\"\"\",(receta))\n",
    "    \n",
    "for ingrediente in ingredientes:\n",
    "    cur.execute(\"\"\" INSERT INTO Ingredientes (Nombre,               \n",
    "Cantidad,Kcal) VALUES (?,?,?)\"\"\",(ingrediente))\n",
    "    \n",
    "for utensilio in utensilios:\n",
    "    cur.execute(\"\"\" INSERT INTO Utensilios_cocina ( Marca,\n",
    "Costo, Consumo) VALUES (?,?,?)\"\"\",(utensilio))\n",
    "    \n",
    "conexion.commit()\n",
    "conexion.close()\n",
    "\n"
   ]
  }
 ],
 "metadata": {
  "kernelspec": {
   "display_name": "Python 3",
   "language": "python",
   "name": "python3"
  },
  "language_info": {
   "codemirror_mode": {
    "name": "ipython",
    "version": 3
   },
   "file_extension": ".py",
   "mimetype": "text/x-python",
   "name": "python",
   "nbconvert_exporter": "python",
   "pygments_lexer": "ipython3",
   "version": "3.11.1"
  },
  "orig_nbformat": 4,
  "vscode": {
   "interpreter": {
    "hash": "3edf2ecd9607096c31b73384d4a9be9455d8bcee54132c43de464d83c996bcf7"
   }
  }
 },
 "nbformat": 4,
 "nbformat_minor": 2
}
