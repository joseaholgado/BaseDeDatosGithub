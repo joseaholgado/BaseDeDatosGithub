{
 "cells": [
  {
   "cell_type": "code",
   "execution_count": 3,
   "metadata": {},
   "outputs": [
    {
     "ename": "OperationalError",
     "evalue": "near \")\": syntax error",
     "output_type": "error",
     "traceback": [
      "\u001b[1;31m---------------------------------------------------------------------------\u001b[0m",
      "\u001b[1;31mOperationalError\u001b[0m                          Traceback (most recent call last)",
      "Cell \u001b[1;32mIn[3], line 4\u001b[0m\n\u001b[0;32m      2\u001b[0m conexion\u001b[39m=\u001b[39msqlite3\u001b[39m.\u001b[39mconnect(\u001b[39m'\u001b[39m\u001b[39mdb_escuela.db\u001b[39m\u001b[39m'\u001b[39m)\n\u001b[0;32m      3\u001b[0m cur \u001b[39m=\u001b[39m conexion\u001b[39m.\u001b[39mcursor()\n\u001b[1;32m----> 4\u001b[0m cur\u001b[39m.\u001b[39;49mexecute(\u001b[39m\"\"\"\u001b[39;49m\u001b[39mCREATE TABLE IF NOT EXISTS TablaEscuela (\u001b[39;49m\n\u001b[0;32m      5\u001b[0m \u001b[39m                        id integer primary key autoincrement,\u001b[39;49m\n\u001b[0;32m      6\u001b[0m \u001b[39m                        Nombre text,\u001b[39;49m\n\u001b[0;32m      7\u001b[0m \u001b[39m                        Direccion text,\u001b[39;49m\n\u001b[0;32m      8\u001b[0m \u001b[39m                        Municipio text,\u001b[39;49m\n\u001b[0;32m      9\u001b[0m \u001b[39m                        )\u001b[39;49m\u001b[39m\"\"\"\u001b[39;49m)\n\u001b[0;32m     10\u001b[0m cur\u001b[39m.\u001b[39mexecute(\u001b[39m\"\"\"\u001b[39m\u001b[39mCREATE TABLE IF NOT EXISTS TablaProfesor (\u001b[39m\n\u001b[0;32m     11\u001b[0m \u001b[39m                        id integer primary key autoincrement,\u001b[39m\n\u001b[0;32m     12\u001b[0m \u001b[39m                        id_escuela integer\u001b[39m\n\u001b[1;32m   (...)\u001b[0m\n\u001b[0;32m     15\u001b[0m \u001b[39m                        Annio_experiencia integer,\u001b[39m\n\u001b[0;32m     16\u001b[0m \u001b[39m                        )\u001b[39m\u001b[39m\"\"\"\u001b[39m)\n\u001b[0;32m     17\u001b[0m cur\u001b[39m.\u001b[39mexecute(\u001b[39m\"\"\"\u001b[39m\u001b[39mCREATE TABLE IF NOT EXISTS TablaAlumno (\u001b[39m\n\u001b[0;32m     18\u001b[0m \u001b[39m                        id integer primary key autoincrement,\u001b[39m\n\u001b[0;32m     19\u001b[0m \u001b[39m                        id_escuela\u001b[39m\n\u001b[1;32m   (...)\u001b[0m\n\u001b[0;32m     22\u001b[0m \u001b[39m                        Años_alumno integer,\u001b[39m\n\u001b[0;32m     23\u001b[0m \u001b[39m                        )\u001b[39m\u001b[39m\"\"\"\u001b[39m)\n",
      "\u001b[1;31mOperationalError\u001b[0m: near \")\": syntax error"
     ]
    }
   ],
   "source": [
    "import sqlite3\n",
    "conexion=sqlite3.connect('db_escuela.db')\n",
    "cur = conexion.cursor()\n",
    "cur.execute(\"\"\"CREATE TABLE IF NOT EXISTS TablaEscuela (\n",
    "                        id integer primary key autoincrement,\n",
    "                        Nombre text,\n",
    "                        Direccion text,\n",
    "                        Municipio text,\n",
    "                        )\"\"\")\n",
    "cur.execute(\"\"\"CREATE TABLE IF NOT EXISTS TablaProfesor (\n",
    "                        id integer primary key autoincrement,\n",
    "                        id_escuela integer\n",
    "                        Departamento text,\n",
    "                        Fecha_nacimiento integer,\n",
    "                        Annio_experiencia integer,\n",
    "                        )\"\"\")\n",
    "cur.execute(\"\"\"CREATE TABLE IF NOT EXISTS TablaAlumno (\n",
    "                        id integer primary key autoincrement,\n",
    "                        id_escuela\n",
    "                        Nombre text,\n",
    "                        Fecha_alumno integer,\n",
    "                        Años_alumno integer,\n",
    "                        )\"\"\")\n",
    "\n",
    "\n",
    "conexion.commit()\n"
   ]
  },
  {
   "attachments": {},
   "cell_type": "markdown",
   "metadata": {},
   "source": [
    "![](imagen.png)"
   ]
  }
 ],
 "metadata": {
  "kernelspec": {
   "display_name": "Python 3",
   "language": "python",
   "name": "python3"
  },
  "language_info": {
   "codemirror_mode": {
    "name": "ipython",
    "version": 3
   },
   "file_extension": ".py",
   "mimetype": "text/x-python",
   "name": "python",
   "nbconvert_exporter": "python",
   "pygments_lexer": "ipython3",
   "version": "3.11.1"
  },
  "orig_nbformat": 4,
  "vscode": {
   "interpreter": {
    "hash": "3edf2ecd9607096c31b73384d4a9be9455d8bcee54132c43de464d83c996bcf7"
   }
  }
 },
 "nbformat": 4,
 "nbformat_minor": 2
}
